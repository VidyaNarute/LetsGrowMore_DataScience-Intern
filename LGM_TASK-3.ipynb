{
 "cells": [
  {
   "cell_type": "markdown",
   "id": "18f1d169",
   "metadata": {},
   "source": [
    "### LGMVIP - DATA SCIENCE"
   ]
  },
  {
   "cell_type": "markdown",
   "id": "53f34112",
   "metadata": {},
   "source": [
    "### BY:- VIDYA NARUTE "
   ]
  },
  {
   "cell_type": "markdown",
   "id": "c90ebe4f",
   "metadata": {},
   "source": [
    "### Task-3_ Image to Pencil Sketch with Python"
   ]
  },
  {
   "cell_type": "code",
   "execution_count": 1,
   "id": "b0421927",
   "metadata": {},
   "outputs": [
    {
     "data": {
      "text/plain": [
       "-1"
      ]
     },
     "execution_count": 1,
     "metadata": {},
     "output_type": "execute_result"
    }
   ],
   "source": [
    "\n",
    "import cv2\n",
    "\n",
    "# Read the image\n",
    "img = cv2.imread('Nature.jpg')\n",
    "cv2.imshow('Original Image', img)\n",
    "\n",
    "# convert image into grayscale image\n",
    "gray_image = cv2.cvtColor(img, cv2.COLOR_BGR2GRAY)\n",
    "cv2.imshow('Grayscaled Image', gray_image)\n",
    "\n",
    "# invert the grayscale image (negative image)\n",
    "inverted_gray_image = 255 - gray_image\n",
    "cv2.imshow('Inverted Grayscaled Image', inverted_gray_image)\n",
    "\n",
    "# blur the grayscale image and invert the blurred grayscale image\n",
    "blurred_img=cv2.GaussianBlur(inverted_gray_image, (21, 21),0)\n",
    "inverted_blurred_img = 255 - blurred_img\n",
    "cv2.imshow('Inverted Blurred Grayscaled Image', inverted_blurred_img)\n",
    "\n",
    "# create pencil sketch by mixing the grayscale image with inverted blurred image\n",
    "pencil_sketch = cv2.divide(gray_image, inverted_blurred_img, scale = 256.0)\n",
    "cv2.imshow('Pencil Sketch', pencil_sketch)\n",
    "cv2.waitKey(0)\n"
   ]
  },
  {
   "cell_type": "code",
   "execution_count": null,
   "id": "99b8508a",
   "metadata": {},
   "outputs": [],
   "source": []
  }
 ],
 "metadata": {
  "kernelspec": {
   "display_name": "Python 3 (ipykernel)",
   "language": "python",
   "name": "python3"
  },
  "language_info": {
   "codemirror_mode": {
    "name": "ipython",
    "version": 3
   },
   "file_extension": ".py",
   "mimetype": "text/x-python",
   "name": "python",
   "nbconvert_exporter": "python",
   "pygments_lexer": "ipython3",
   "version": "3.9.7"
  }
 },
 "nbformat": 4,
 "nbformat_minor": 5
}
